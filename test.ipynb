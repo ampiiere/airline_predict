{
 "cells": [
  {
   "cell_type": "code",
   "execution_count": 7,
   "metadata": {},
   "outputs": [],
   "source": [
    "from pyspark.ml import Pipeline\n",
    "from pyspark.ml.regression import RandomForestRegressionModel\n",
    "from pyspark import SparkConf\n",
    "from pyspark.sql import SparkSession"
   ]
  },
  {
   "cell_type": "code",
   "execution_count": null,
   "metadata": {},
   "outputs": [],
   "source": [
    "# replace with the config and spark session you used in ur notebook!!\n",
    "conf = SparkConf().setAppName(\"airline\").setMaster(\"local\")\n",
    "spark = SparkSession.builder.config(conf=conf).getOrCreate()\n"
   ]
  },
  {
   "cell_type": "code",
   "execution_count": null,
   "metadata": {},
   "outputs": [],
   "source": [
    "# Load the PySpark model and data pipeline\n",
    "dataPipeline = Pipeline.load(\"modelAndPipeline/dataPipeline\")\n",
    "rfModel = RandomForestRegressionModel.load(\"modelAndPipeline/rfModel\")"
   ]
  },
  {
   "cell_type": "code",
   "execution_count": null,
   "metadata": {},
   "outputs": [],
   "source": [
    "# setting our input data\n",
    "quarter = 1\n",
    "origin = 'MSY'\n",
    "dest = \"GEG\"\n",
    "ticket_carrier = 'XP'\n",
    "passengers = 3\n",
    "tk_carrier_count = 1\n",
    "market_distance = 30"
   ]
  },
  {
   "cell_type": "code",
   "execution_count": null,
   "metadata": {},
   "outputs": [],
   "source": [
    "\n",
    "input_data = [(quarter, origin, dest, ticket_carrier, passengers, tk_carrier_count, market_distance)]\n",
    "input_columns = ['QUARTER', 'ORIGIN', 'DEST', 'TICKET_CARRIER', 'PASSENGERS', 'TK_CARRIER_count', 'MARKET_DISTANCE'] \n",
    "input_df = spark.createDataFrame(input_data, input_columns)\n",
    "\n",
    "# transform the input data\n",
    "transformed_input_df = dataPipeline.fit(input_df).transform(input_df)\n",
    "\n",
    "# put transformed data into model\n",
    "predictions = rfModel.transform(transformed_input_df)\n",
    "\n",
    "# Extract the predicted Fare\n",
    "predictions.select('Prediction_FARE').collect()"
   ]
  }
 ],
 "metadata": {
  "kernelspec": {
   "display_name": "venv",
   "language": "python",
   "name": "python3"
  },
  "language_info": {
   "codemirror_mode": {
    "name": "ipython",
    "version": 3
   },
   "file_extension": ".py",
   "mimetype": "text/x-python",
   "name": "python",
   "nbconvert_exporter": "python",
   "pygments_lexer": "ipython3",
   "version": "3.11.4"
  }
 },
 "nbformat": 4,
 "nbformat_minor": 2
}
